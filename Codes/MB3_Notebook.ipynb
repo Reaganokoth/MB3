{
 "cells": [
  {
   "cell_type": "markdown",
   "id": "qualified-modeling",
   "metadata": {},
   "source": [
    "# Dead Tree Mapping"
   ]
  },
  {
   "cell_type": "markdown",
   "id": "apparent-reminder",
   "metadata": {},
   "source": [
    "#### Problem Rationel\n",
    "\n",
    "\n",
    "\n",
    "Forest ecosystems are known to provide important ecosystem services including water and air purification. While they play a key role in climate change mitigation as carbon sinks, forests are similarly, very sensitive to the poresent ongoing global climate warming Forest ecosystems are known to provide important ecosystem services including water and air purification. While they play a key role in climate change mitigation as carbon sinks, forests are similarly, very sensitive to the poresent ongoing global climate warming [$^{1}$](https://www.sciencedirect.com/science/article/pii/S0378112710007140?casa_token=eVchPGEdax8AAAAA:IivvV6JwDaHCyOWAAaP724OtaWGStEbTzXcZh-xYFVlYYtZzLnzxzaSkfUuBUdLSD8FtBm1mEpk). During the month of April 2018, a high-pressure system established over Central Europe and lasted almost consistently until mid of October. This resulted in a long-lasting drought spell and record temperatures in central and northern Europe. The impacts of the drought event included deminished ecosystem health especially in forested areas[$^{2}$](https://bg.copernicus.org/preprints/bg-2019-286/bg-2019-286.pdf). In Germany, the warm conditions resulted in Pests such as bark beetle proliferation. As such, the pests' population dramatically escalated to a point they bacame a threat to the foreat ecosystem. As evidence, the Federal Statistical Office (Destatis) reported a record 32 million cubic meteres of timber harvested as a result of pest infestation in the year 2019. These numbers are way overboard when compred to the preceding years (11 and 6 million cubic metere in 2018 and 2017 respectively)[$^{3}$](https://www.destatis.de/EN/Press/2020/07/PE20_N041_412.html).\n",
    "\n",
    "\n",
    "\n",
    "In this study, we quantify the impact of the 2018-2019 European drought event on forest health using high resolution satellite data in Marktheidenfeld - a small German municipality located along the Main river in the larger Main-Spessert (MSP) region.\n",
    "\n",
    "\n",
    "Our research focused on utilizing Optical Multi-spectral Remote Sensing Imagery to carry out near real-time monitoring of deforestation. The main challenge of optical satellite data specifically on the tropics is that they cannot penetrate cloud cover. We therefore explored new techniques such as a the Gapfill algorithm to predict missing values in optical imagery time series data, i.e. to fill the cloud gaps. We then used bfastmonitor of the bfast algorithm family to detect disturbances in the gapfilled optical time series.\n",
    "\n",
    "Of special interest was the presence of the mentioned cloud gaps, and how they affect deforestation detection, i.e. we asked the question: Does bfastmonitor perform better with stronger aggregated data? To answer this question, we compared the same procedure for monthly and for quarterly aggregated data sets.\n",
    "\n",
    "We validated our results by using INPE PRODES (more conservative, so very low false positive rate) and DETER (automatized system, some false positives expected) deforestation data as reference.\n",
    "\n"
   ]
  },
  {
   "cell_type": "markdown",
   "id": "dated-elimination",
   "metadata": {},
   "source": [
    "$x^{2}$"
   ]
  },
  {
   "cell_type": "markdown",
   "id": "fabulous-radar",
   "metadata": {},
   "source": [
    "This adds a linked superscript {% fn 20 %}\n",
    "\n",
    "{{ 'This is the actual footnote; with a [link](www.github.com) as well! and a single quote &#39; too!'  | fndetail: 20 }}"
   ]
  },
  {
   "cell_type": "code",
   "execution_count": 1,
   "id": "acute-tablet",
   "metadata": {},
   "outputs": [
    {
     "ename": "SyntaxError",
     "evalue": "invalid syntax (<ipython-input-1-6c557b4d27fa>, line 1)",
     "output_type": "error",
     "traceback": [
      "\u001b[0;36m  File \u001b[0;32m\"<ipython-input-1-6c557b4d27fa>\"\u001b[0;36m, line \u001b[0;32m1\u001b[0m\n\u001b[0;31m    touch references.bib\u001b[0m\n\u001b[0m          ^\u001b[0m\n\u001b[0;31mSyntaxError\u001b[0m\u001b[0;31m:\u001b[0m invalid syntax\n"
     ]
    }
   ],
   "source": [
    "touch references.bib"
   ]
  },
  {
   "cell_type": "markdown",
   "id": "mighty-handling",
   "metadata": {},
   "source": [
    "Use this code: [1](https://www.destatis.de/EN/Press/2020/07/PE20_N041_412.html)"
   ]
  },
  {
   "cell_type": "code",
   "execution_count": null,
   "id": "every-intersection",
   "metadata": {},
   "outputs": [],
   "source": []
  }
 ],
 "metadata": {
  "kernelspec": {
   "display_name": "Python 3",
   "language": "python",
   "name": "python3"
  },
  "language_info": {
   "codemirror_mode": {
    "name": "ipython",
    "version": 3
   },
   "file_extension": ".py",
   "mimetype": "text/x-python",
   "name": "python",
   "nbconvert_exporter": "python",
   "pygments_lexer": "ipython3",
   "version": "3.8.6"
  }
 },
 "nbformat": 4,
 "nbformat_minor": 5
}
