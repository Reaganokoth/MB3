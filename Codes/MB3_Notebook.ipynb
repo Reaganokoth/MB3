{
 "cells": [
  {
   "cell_type": "markdown",
   "metadata": {},
   "source": [
    "# Dead Tree Mapping"
   ]
  },
  {
   "cell_type": "markdown",
   "metadata": {},
   "source": [
    "Purpose:        This Script is written as a final project for the Spatial Python course (Eagle master                    programm, teacher Steven Hill)\n",
    "            \n",
    "Author:        Reagan Okoth, Nora Nieskens \n",
    "\n",
    "Field data:      Tree species identity and their cover on each plot for research extent in Marktheidenfeld (August 2021), Dead tree sampling                      (Source: Mapping campaign by the authors)\n",
    "                 \n",
    "Satellite data : 4-Band Planet data, aquisitions in May and September of the years 2018, 2019, 2020, 2021 (Planet Team (2021). Planet Application Program Interface: In Space for Life on Earth. San Francisco, CA. https://api.planet.com); \n",
    "\n",
    "\n",
    "Output         : Spatial predicition of dead trees, change detection "
   ]
  },
  {
   "cell_type": "markdown",
   "metadata": {},
   "source": [
    "#### Problem Rationel\n",
    "\n",
    "Forest ecosystems are known to provide important ecosystem services including water and air purification. While they play a key role in climate change mitigation as carbon sinks, forests are similarly, very sensitive to the poresent ongoing global climate warming [$^{1}$](https://www.sciencedirect.com/science/article/pii/S0378112710007140?casa_token=eVchPGEdax8AAAAA:IivvV6JwDaHCyOWAAaP724OtaWGStEbTzXcZh-xYFVlYYtZzLnzxzaSkfUuBUdLSD8FtBm1mEpk). During the month of April 2018, a high-pressure system established over Central Europe and lasted almost consistently until mid of October. This resulted in a long-lasting drought spell and record temperatures in central and northern Europe. The impacts of the drought event included deminished ecosystem health especially in forested areas[$^{2}$](https://bg.copernicus.org/preprints/bg-2019-286/bg-2019-286.pdf). In Germany, the warm conditions resulted in Pests such as bark beetle proliferation. As such, the pests' population dramatically escalated to a point they bacame a threat to the foreat ecosystem. As evidence, the Federal Statistical Office (Destatis) reported a record 32 million cubic meteres of timber harvested as a result of pest infestation in the year 2019. These numbers are way overboard when compred to the preceding years (11 and 6 million cubic metere in 2018 and 2017 respectively)[$^{3}$](https://www.destatis.de/EN/Press/2020/07/PE20_N041_412.html).\n",
    "\n",
    "In this study, we quantify the impact of the 2018-2019 European drought event on forest health using high resolution satellite data in Marktheidenfeld - a small German municipality located along the Main river in the larger Main-Spessert (MSP) region.Our research focused on utilizing Optical Multi-spectral Remote Sensing Imagery (planet data) to descriminate dead trees in a forest ecosystem, estimate the proportion of the forest classified as dead tree, and Investigate the interanual differences in this proportion from 2018 to present. \n",
    "\n"
   ]
  },
  {
   "cell_type": "markdown",
   "metadata": {},
   "source": [
    "# Methods"
   ]
  },
  {
   "cell_type": "markdown",
   "metadata": {},
   "source": [
    "### Procedure \n",
    "\n",
    "- Extract out the forest \n",
    "\n",
    "- Classify into  broad leaf vs needle \n",
    "\n",
    "- Vegetation health parameters  \n",
    "\n",
    "- Detect dead tree \n",
    "\n",
    "- Investigate temporal changes (e.g. impact of the heat waves 2018, 2019)  \n",
    "\n",
    "- Change maps in between one year; change maps between the years  \n",
    "\n",
    " \n",
    "\n",
    "- Investigate differences of both forests (left side dead trees standing; right side cut down?) maybe temporal visible --> forest management  \n",
    "\n",
    "- 2018, 2019, 2020, 2021 Get image from same month/s over 2018-2021 \n",
    "\n"
   ]
  },
  {
   "cell_type": "code",
   "execution_count": null,
   "metadata": {},
   "outputs": [],
   "source": [
    "#load the libaries \n",
    "#changing test...\n",
    "import geopandas as gpd\n",
    "\n",
    "\n",
    "import rasterio\n",
    "from rasterio.mask import mask\n",
    "from rasterio.plot import show\n",
    "import geopandas as gpd\n",
    "import numpy as np\n",
    "from shapely.geometry import mapping\n",
    "import matplotlib.pyplot as plt\n",
    "import os\n",
    "import glob\n",
    "import earthpy.spatial as es\n",
    "from rasterio.plot import reshape_as_raster, reshape_as_image\n",
    "from sklearn.cluster import KMeans\n",
    "from shapely.geometry import mapping\n",
    "from sklearn.ensemble import RandomForestClassifier\n",
    "import pandas as pd\n",
    "from rasterio.plot import show\n",
    "from rasterio.plot import show_hist\n",
    "from rasterio.windows import Window\n",
    "from rasterio.plot import reshape_as_raster, reshape_as_image\n",
    "\n",
    "\n",
    "\n",
    "\n"
   ]
  },
  {
   "cell_type": "code",
   "execution_count": null,
   "metadata": {},
   "outputs": [],
   "source": [
    "#Load the field data \n",
    "\n",
    "field_points = gpd.read_file(gpd.datasets.get_path('Data/Merged2'))\n",
    "\n",
    "\n",
    "#Load the satellite data \n",
    "#stack each year together\n",
    "\n",
    "\n",
    "#reproject to same coordinate system? \n",
    "\n",
    "#visualize both data/our study area\n",
    "\n",
    "\n",
    "\n",
    "\n",
    "\n",
    "\n",
    "#### Extraction of forest ####\n",
    "# reshape field data so it declared as forest class\n",
    "# additionally sample non-forest shapes in qgis \n",
    "# classify with random forest (stevens script!)\n",
    "\n",
    "#Calculate some statistics about area changes\n",
    "#visualize results \n",
    "\n",
    "#### Classify into broad leaf vs. needle leaf ######\n",
    "\n",
    "\n",
    "\n",
    "\n"
   ]
  },
  {
   "cell_type": "markdown",
   "metadata": {},
   "source": [
    "# Results"
   ]
  },
  {
   "cell_type": "markdown",
   "metadata": {},
   "source": [
    "- result 1\n",
    "- result 2\n",
    "- result .."
   ]
  },
  {
   "cell_type": "markdown",
   "metadata": {},
   "source": [
    "# Discusion"
   ]
  },
  {
   "cell_type": "code",
   "execution_count": null,
   "metadata": {},
   "outputs": [],
   "source": []
  }
 ],
 "metadata": {
  "kernelspec": {
   "display_name": "Python 3",
   "language": "python",
   "name": "python3"
  },
  "language_info": {
   "codemirror_mode": {
    "name": "ipython",
    "version": 3
   },
   "file_extension": ".py",
   "mimetype": "text/x-python",
   "name": "python",
   "nbconvert_exporter": "python",
   "pygments_lexer": "ipython3",
   "version": "3.8.5"
  }
 },
 "nbformat": 4,
 "nbformat_minor": 5
}
